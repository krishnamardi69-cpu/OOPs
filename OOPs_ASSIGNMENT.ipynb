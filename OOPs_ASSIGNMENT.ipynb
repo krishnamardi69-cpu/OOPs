{
  "nbformat": 4,
  "nbformat_minor": 0,
  "metadata": {
    "colab": {
      "provenance": []
    },
    "kernelspec": {
      "name": "python3",
      "display_name": "Python 3"
    },
    "language_info": {
      "name": "python"
    }
  },
  "cells": [
    {
      "cell_type": "markdown",
      "source": [
        "# **Theoretical Questions & Answers**\n",
        "\n",
        "**1. What is Object-Oriented Programming (OOP)**\n",
        "\n",
        "Object-Oriented Programming (OOP) is a programming paradigm based on the concept of objects which contain data and methods. It promotes code reuse, modularity, and abstraction.\n",
        "\n",
        "**2. What is a class in OOP?**\n",
        "\n",
        "A class in OOP is a blueprint for creating objects. It defines the structure and behavior of its objects through attributes and methods.\n",
        "\n",
        "**3. What is an object in OOP?**\n",
        "\n",
        "An object is an instance of a class. It represents a specific entity with defined attributes and behaviors\n",
        "\n",
        "**4. What is the difference between abstraction and encapsulation?**\n",
        "\n",
        "Abstraction hides implementation details and shows only functionality, while encapsulation binds data and methods together and restricts access to some components.\n",
        "\n",
        "**5. What are dunder methods in Python?**\n",
        "\n",
        "Dunder methods (double underscore methods) are special methods in Python like init, str, and repr that enable operator overloading and provide special behavior.\n",
        "\n",
        "**6. Explain the concept of inheritance in OOP?**\n",
        "\n",
        "Inheritance is a mechanism where one class (child) inherits attributes and methods from another class (parent).\n",
        "\n",
        "**7. What is polymorphism in OOP?**\n",
        "\n",
        "Polymorphism allows different classes to implement methods with the same name in different ways, enabling flexible and reusable code.\n",
        "\n",
        "**8. How is encapsulation achieved in Python?**\n",
        "\n",
        "Encapsulation is achieved in Python by using private attributes (prefixing with _ or __) and providing public methods for access and modification.\n",
        "\n",
        "**9. What is a constructor in Python?**\n",
        "\n",
        "A constructor in Python is the init method. It initializes a newly created object.\n",
        "\n",
        "**10. What are class and static methods in Python?**\n",
        "\n",
        "class method takes the class as the first parameter and is used to create factory methods, while static method does not take an implicit first argument.\n",
        "\n",
        "**11. What is method overloading in Python?**\n",
        "\n",
        "Python does not support method overloading in the traditional sense, but it can be mimicked using default arguments or variable-length arguments.\n",
        "\n",
        "**12. What is method overriding in OOP?**\n",
        "\n",
        "Method overriding allows a subclass to provide a specific implementation of a method defined in its superclass.\n",
        "\n",
        "**13. What is a property decorator in Python?**\n",
        "\n",
        "The property decorator allows you to define methods in a class that behave like attributes, enabling controlled access.\n",
        "\n",
        "**14. Why is polymorphism important in OOP?**\n",
        "\n",
        "Polymorphism enhances flexibility by allowing the same interface to be used for different underlying data types.\n",
        "\n",
        "**15. What is an abstract class in Python?**\n",
        "\n",
        "An abstract class cannot be instantiated and often contains abstract methods that must be implemented by subclasses.\n",
        "\n",
        "**16. What are the advantages of OOP?**\n",
        "\n",
        "Advantages include code reusability, scalability, modularity, and improved maintainability.\n",
        "\n",
        "**17. What is the difference between a class variable and an instance variable?**\n",
        "\n",
        "Class variables are shared across all instances, while instance variables are specific to each object.\n",
        "\n",
        "**18.What is multiple inheritance in Python?**\n",
        "\n",
        "Multiple inheritance allows a class to inherit from more than one parent class.\n",
        "\n",
        "**19. Explain the purpose of ‘str’ and ‘repr’ methods in Python?**\n",
        "\n",
        "str returns a human-readable string, while repr returns an unambiguous string for developers.\n",
        "\n",
        "**20. What is the significance of the ‘super()’ function in Python?**\n",
        "\n",
        "super() allows access to methods from a parent or sibling class, enabling method reuse and avoiding code duplication.\n",
        "\n",
        "**21. What is the significance of the del method in Python?**\n",
        "\n",
        "del is called when an object is about to be destroyed and is used for cleanup activities.\n",
        "\n",
        "**22. What is the difference between @staticmethod and @classmethod in Python?**\n",
        "\n",
        "@staticmethod doesn’t access class or instance data, while @classmethod takes the class as an argument and can modify class state.\n",
        "\n",
        "**23. How does polymorphism work in Python with inheritance?**\n",
        "\n",
        "Through method overriding, Python allows different classes to define the same method, supporting polymorphic behavior.\n",
        "\n",
        "**24. What is method chaining in Python OOP?**\n",
        "\n",
        "Method chaining allows multiple methods to be called on the same object in a single statement by returning self.\n",
        "\n",
        "**25. What is the purpose of the call method in Python?**\n",
        "\n",
        "call allows an instance of a class to be called as a function.\n",
        "\n"
      ],
      "metadata": {
        "id": "c1JyuIEt9o8a"
      }
    },
    {
      "cell_type": "markdown",
      "source": [
        "# **Practical Questions & Answers**\n",
        "**1. Create a parent class Animal with a method speak() that prints a generic message. Create a child class Dog that overrides the speak() method to print \"Bark!\".**\n"
      ],
      "metadata": {
        "id": "3LUxQucnB5BQ"
      }
    },
    {
      "cell_type": "code",
      "source": [],
      "metadata": {
        "id": "OzgGEA8RCVM5"
      },
      "execution_count": null,
      "outputs": []
    },
    {
      "cell_type": "code",
      "source": [
        "class Animal:\n",
        "    def speak(self):\n",
        "        print(\"Animal makes a sound\")\n",
        "\n",
        "class Dog(Animal):\n",
        "    def speak(self):\n",
        "        print(\"Bark!\")\n",
        "\n",
        "dog = Dog()\n",
        "dog.speak()\n",
        "\n"
      ],
      "metadata": {
        "colab": {
          "base_uri": "https://localhost:8080/"
        },
        "id": "VFzvtgEQCVWj",
        "outputId": "75b1c979-2217-44ea-8fb5-6c2fceaa7bb1"
      },
      "execution_count": 2,
      "outputs": [
        {
          "output_type": "stream",
          "name": "stdout",
          "text": [
            "Bark!\n"
          ]
        }
      ]
    },
    {
      "cell_type": "markdown",
      "source": [
        "**2. Write a program to create an abstract class Shape with a method area(). Derive classes Circle and Rectangle from it and implement the area() method in both.**\n"
      ],
      "metadata": {
        "id": "b6DRSqflCk76"
      }
    },
    {
      "cell_type": "code",
      "source": [
        "# Base class\n",
        "class Shape:\n",
        "    def area(self):\n",
        "        # This function should be overridden in child classes\n",
        "        pass\n",
        "\n",
        "# Derived class: Circle\n",
        "class Circle(Shape):\n",
        "    def __init__(self, radius):\n",
        "        self.radius = radius\n",
        "\n",
        "    def area(self):\n",
        "        return 3.14 * self.radius * self.radius\n",
        "\n",
        "# Derived class: Rectangle\n",
        "class Rectangle(Shape):\n",
        "    def __init__(self, width, height):\n",
        "        self.width = width\n",
        "        self.height = height\n",
        "\n",
        "    def area(self):\n",
        "        return self.width * self.height\n",
        "\n",
        "# Example usage\n",
        "circle = Circle(5)\n",
        "rectangle = Rectangle(4, 6)\n",
        "\n",
        "print(\"Circle Area:\", circle.area())\n",
        "print(\"Rectangle Area:\", rectangle.area())"
      ],
      "metadata": {
        "colab": {
          "base_uri": "https://localhost:8080/"
        },
        "id": "X0lHFI0XC36N",
        "outputId": "77ea2aa8-4b82-44d3-a2b0-e30067f3954f"
      },
      "execution_count": 3,
      "outputs": [
        {
          "output_type": "stream",
          "name": "stdout",
          "text": [
            "Circle Area: 78.5\n",
            "Rectangle Area: 24\n"
          ]
        }
      ]
    },
    {
      "cell_type": "markdown",
      "source": [
        "**3. Implement a multi-level inheritance scenario where a class Vehicle has an attribute type. Derive a class Car and further derive a class ElectricCar that adds a battery attribute.**"
      ],
      "metadata": {
        "id": "jkXIVqUaDHfF"
      }
    },
    {
      "cell_type": "code",
      "source": [
        "class Vehicle:\n",
        "    def __init__(self, vehicle_type):\n",
        "        self.vehicle_type = vehicle_type\n",
        "\n",
        "class Car(Vehicle):\n",
        "    def __init__(self, vehicle_type, model):\n",
        "        super().__init__(vehicle_type)\n",
        "        self.model = model\n",
        "\n",
        "class ElectricCar(Car):\n",
        "    def __init__(self, vehicle_type, model, battery):\n",
        "        super().__init__(vehicle_type, model)\n",
        "        self.battery = battery\n",
        "\n",
        "ec = ElectricCar(\"Electric\", \"Tesla\", \"100kWh\")\n",
        "print(ec.vehicle_type, ec.model, ec.battery)"
      ],
      "metadata": {
        "colab": {
          "base_uri": "https://localhost:8080/"
        },
        "id": "Nrui1aIwDPqD",
        "outputId": "8e22c100-2ef7-493f-ee3a-dd7a45bfa62f"
      },
      "execution_count": 4,
      "outputs": [
        {
          "output_type": "stream",
          "name": "stdout",
          "text": [
            "Electric Tesla 100kWh\n"
          ]
        }
      ]
    },
    {
      "cell_type": "markdown",
      "source": [
        "**4. Demonstrate polymorphism by creating a base class Bird with a method fly(). Create two derived classes Sparrow and Penguin that override the fly() method.**"
      ],
      "metadata": {
        "id": "H3DuTXPtDk-6"
      }
    },
    {
      "cell_type": "code",
      "source": [
        "class Bird:\n",
        "    def fly(self):\n",
        "        print(\"Bird flies\")\n",
        "\n",
        "class Sparrow(Bird):\n",
        "    def fly(self):\n",
        "        print(\"Sparrow flies high\")\n",
        "\n",
        "class Penguin(Bird):\n",
        "    def fly(self):\n",
        "        print(\"Penguins can't fly\")\n",
        "\n",
        "birds = [Sparrow(), Penguin()]\n",
        "for bird in birds:\n",
        "    bird.fly()"
      ],
      "metadata": {
        "colab": {
          "base_uri": "https://localhost:8080/"
        },
        "id": "UCDCgYyMDs5K",
        "outputId": "e62b97f2-7995-4c35-9956-1bd7297a2bd0"
      },
      "execution_count": 5,
      "outputs": [
        {
          "output_type": "stream",
          "name": "stdout",
          "text": [
            "Sparrow flies high\n",
            "Penguins can't fly\n"
          ]
        }
      ]
    },
    {
      "cell_type": "markdown",
      "source": [
        "**5.Write a program to demonstrate encapsulation by creating a class BankAccount with private attributes balance and methods to deposit, withdraw, and check balance.**\n"
      ],
      "metadata": {
        "id": "_H1x5QNfD91A"
      }
    },
    {
      "cell_type": "code",
      "source": [
        "class BankAccount:\n",
        "    def __init__(self, balance=0):\n",
        "        self.__balance = balance\n",
        "\n",
        "    def deposit(self, amount):\n",
        "        self.__balance += amount\n",
        "\n",
        "    def withdraw(self, amount):\n",
        "        if amount <= self.__balance:\n",
        "            self.__balance -= amount\n",
        "        else:\n",
        "            print(\"Insufficient funds\")\n",
        "\n",
        "    def get_balance(self):\n",
        "        return self.__balance\n",
        "\n",
        "acc = BankAccount()\n",
        "acc.deposit(1000)\n",
        "acc.withdraw(300)\n",
        "print(\"Balance:\", acc.get_balance())\n",
        ""
      ],
      "metadata": {
        "colab": {
          "base_uri": "https://localhost:8080/"
        },
        "id": "dg3knIJYEV5u",
        "outputId": "9386f41b-a26b-4458-def7-236a051942a5"
      },
      "execution_count": 6,
      "outputs": [
        {
          "output_type": "stream",
          "name": "stdout",
          "text": [
            "Balance: 700\n"
          ]
        }
      ]
    },
    {
      "cell_type": "markdown",
      "source": [
        "**6. Demonstrate runtime polymorphism using a method play() in a base class Instrument. Derive classes Guitar and Piano that implement their own version of play().**\n"
      ],
      "metadata": {
        "id": "LpnFPxkBErzh"
      }
    },
    {
      "cell_type": "code",
      "source": [
        "class Instrument:\n",
        "    def play(self):\n",
        "        print(\"Instrument is playing\")\n",
        "\n",
        "class Guitar(Instrument):\n",
        "    def play(self):\n",
        "        print(\"Strumming the guitar\")\n",
        "\n",
        "class Piano(Instrument):\n",
        "    def play(self):\n",
        "        print(\"Playing the piano\")\n",
        "\n",
        "instruments = [Guitar(), Piano()]\n",
        "for inst in instruments:\n",
        "    inst.play()"
      ],
      "metadata": {
        "colab": {
          "base_uri": "https://localhost:8080/"
        },
        "id": "ht5t73maE_Hp",
        "outputId": "a14650a1-6704-4ea5-cf36-8725b9be1344"
      },
      "execution_count": 7,
      "outputs": [
        {
          "output_type": "stream",
          "name": "stdout",
          "text": [
            "Strumming the guitar\n",
            "Playing the piano\n"
          ]
        }
      ]
    },
    {
      "cell_type": "markdown",
      "source": [
        "**7. Create a class MathOperations with a class method add_numbers() to add two numbers and a static method subtract_numbers() to subtract two numbers.**"
      ],
      "metadata": {
        "id": "SXVH1tCSFEQa"
      }
    },
    {
      "cell_type": "code",
      "source": [
        "class MathOperations:\n",
        "    @classmethod\n",
        "    def add_numbers(cls, a, b):\n",
        "        return a + b\n",
        "\n",
        "    @staticmethod\n",
        "    def subtract_numbers(a, b):\n",
        "        return a - b\n",
        "\n",
        "print(MathOperations.add_numbers(10, 5))\n",
        "print(MathOperations.subtract_numbers(10, 5))"
      ],
      "metadata": {
        "colab": {
          "base_uri": "https://localhost:8080/"
        },
        "id": "RwLp2xZ7FbEX",
        "outputId": "2d3c30c7-2b3c-4dae-efd0-77b3eb2501e9"
      },
      "execution_count": 8,
      "outputs": [
        {
          "output_type": "stream",
          "name": "stdout",
          "text": [
            "15\n",
            "5\n"
          ]
        }
      ]
    },
    {
      "cell_type": "markdown",
      "source": [
        "**8. Implement a class Person with a class method to count the total number of persons created.**"
      ],
      "metadata": {
        "id": "XQW2LjAPFy13"
      }
    },
    {
      "cell_type": "code",
      "source": [
        "class Person:\n",
        "    count = 0\n",
        "\n",
        "    def __init__(self, name):\n",
        "        self.name = name\n",
        "        Person.count += 1\n",
        "\n",
        "    @classmethod\n",
        "    def get_person_count(cls):\n",
        "        return cls.count\n",
        "\n",
        "p1 = Person(\"Sandeep\")\n",
        "p2 = Person(\"Tushar\")\n",
        "print(\"Total persons:\", Person.get_person_count())\n"
      ],
      "metadata": {
        "colab": {
          "base_uri": "https://localhost:8080/"
        },
        "id": "jSGUbSjEF8SB",
        "outputId": "59f1dd3e-3ddd-4289-aee0-5c0562b2f5ed"
      },
      "execution_count": 10,
      "outputs": [
        {
          "output_type": "stream",
          "name": "stdout",
          "text": [
            "Total persons: 2\n"
          ]
        }
      ]
    },
    {
      "cell_type": "markdown",
      "source": [
        "**9.Write a class Fraction with attributes numerator and denominator. Override the str method to display the fraction as \"numerator/denominator\".**"
      ],
      "metadata": {
        "id": "Dnt5FydGGGej"
      }
    },
    {
      "cell_type": "code",
      "source": [
        "class Fraction:\n",
        "    def __init__(self, numerator, denominator):\n",
        "        self.numerator = numerator\n",
        "        self.denominator = denominator\n",
        "\n",
        "    def __str__(self):\n",
        "        return f\"{self.numerator}/{self.denominator}\"\n",
        "\n",
        "f = Fraction(3, 4)\n",
        "print(f)"
      ],
      "metadata": {
        "colab": {
          "base_uri": "https://localhost:8080/"
        },
        "id": "WqtexXooGQQ7",
        "outputId": "83ea593f-587c-4e2d-d168-7b91c13dc630"
      },
      "execution_count": 11,
      "outputs": [
        {
          "output_type": "stream",
          "name": "stdout",
          "text": [
            "3/4\n"
          ]
        }
      ]
    },
    {
      "cell_type": "markdown",
      "source": [
        "**10. Demonstrate operator overloading by creating a class Vector and overriding the add method to add two vectors.**"
      ],
      "metadata": {
        "id": "QFq-3BdSGb32"
      }
    },
    {
      "cell_type": "code",
      "source": [
        "class Vector:\n",
        "    def __init__(self, x, y):\n",
        "        self.x = x\n",
        "        self.y = y\n",
        "\n",
        "    def __add__(self, other):\n",
        "        return Vector(self.x + other.x, self.y + other.y)\n",
        "\n",
        "    def __str__(self):\n",
        "        return f\"Vector({self.x}, {self.y})\"\n",
        "\n",
        "v1 = Vector(1, 2)\n",
        "v2 = Vector(3, 4)\n",
        "print(v1 + v2)\n",
        "\n",
        "Vector(4, 6)"
      ],
      "metadata": {
        "colab": {
          "base_uri": "https://localhost:8080/"
        },
        "id": "yVbkaigLGr1Q",
        "outputId": "939bb5dd-08f1-405c-badd-551080802fa4"
      },
      "execution_count": 12,
      "outputs": [
        {
          "output_type": "stream",
          "name": "stdout",
          "text": [
            "Vector(4, 6)\n"
          ]
        },
        {
          "output_type": "execute_result",
          "data": {
            "text/plain": [
              "<__main__.Vector at 0x7971e8520650>"
            ]
          },
          "metadata": {},
          "execution_count": 12
        }
      ]
    },
    {
      "cell_type": "markdown",
      "source": [
        "**11. Create a class Person with attributes name and age. Add a method greet() that prints \"Hello, my name is {name} and I am {age} years old.\"**"
      ],
      "metadata": {
        "id": "SclSr89wHIQf"
      }
    },
    {
      "cell_type": "code",
      "source": [
        "class Person:\n",
        "    def __init__(self, name, age):\n",
        "        self.name = name\n",
        "        self.age = age\n",
        "\n",
        "    def greet(self):\n",
        "        print(f\"Hello, my name is {self.name} and I am {self.age} years old.\")\n",
        "\n",
        "p = Person(\"Sandeep\", 24)\n",
        "p.greet()\n",
        "\n"
      ],
      "metadata": {
        "id": "HaNXATBsHrFx"
      },
      "execution_count": null,
      "outputs": []
    },
    {
      "cell_type": "markdown",
      "source": [
        "**12. Implement a class Student with attributes name and grades. Create a method average_grade() to compute the average of the grades.**\n"
      ],
      "metadata": {
        "id": "qB_xKlXzIAV9"
      }
    },
    {
      "cell_type": "code",
      "source": [
        "class Student:\n",
        "    def __init__(self, name, grades):\n",
        "        self.name = name\n",
        "        self.grades = grades  # list of grades\n",
        "\n",
        "    def average_grade(self):\n",
        "        return sum(self.grades) / len(self.grades)\n",
        "\n",
        "s = Student(\"Sandeep\", [80, 90, 85])\n",
        "print(\"Average grade:\", s.average_grade())"
      ],
      "metadata": {
        "colab": {
          "base_uri": "https://localhost:8080/"
        },
        "id": "pP96f063IPnv",
        "outputId": "e03734c4-7671-4f62-8220-ac7bdb199063"
      },
      "execution_count": 13,
      "outputs": [
        {
          "output_type": "stream",
          "name": "stdout",
          "text": [
            "Average grade: 85.0\n"
          ]
        }
      ]
    },
    {
      "cell_type": "markdown",
      "source": [
        "**13. Create a class Rectangle with methods set_dimensions() to set the dimensions and area() to calculate the area.**\n"
      ],
      "metadata": {
        "id": "J8LeiIhBIZUS"
      }
    },
    {
      "cell_type": "code",
      "source": [
        "class Rectangle:\n",
        "    def __init__(self):\n",
        "        self.length = 0\n",
        "        self.width = 0\n",
        "\n",
        "    def set_dimensions(self, length, width):\n",
        "        self.length = length\n",
        "        self.width = width\n",
        "\n",
        "    def area(self):\n",
        "        return self.length * self.width\n",
        "\n",
        "r = Rectangle()\n",
        "r.set_dimensions(5, 3)\n",
        "print(\"Area of rectangle:\", r.area())"
      ],
      "metadata": {
        "colab": {
          "base_uri": "https://localhost:8080/"
        },
        "id": "2y-1qOYOInQw",
        "outputId": "54df8203-3f1c-4b67-86ad-ee961c74e9b6"
      },
      "execution_count": 14,
      "outputs": [
        {
          "output_type": "stream",
          "name": "stdout",
          "text": [
            "Area of rectangle: 15\n"
          ]
        }
      ]
    },
    {
      "cell_type": "markdown",
      "source": [
        "**14. Create a class Employee with a method calculate_salary() that computes the salary based on hours worked and hourly rate. Create a derived class Manager that adds a bonus to the salary.**\n"
      ],
      "metadata": {
        "id": "90mNhb8kItAO"
      }
    },
    {
      "cell_type": "code",
      "source": [
        "class Employee:\n",
        "    def __init__(self, hours_worked, hourly_rate):\n",
        "        self.hours_worked = hours_worked\n",
        "        self.hourly_rate = hourly_rate\n",
        "\n",
        "    def calculate_salary(self):\n",
        "        return self.hours_worked * self.hourly_rate\n",
        "\n",
        "class Manager(Employee):\n",
        "    def __init__(self, hours_worked, hourly_rate, bonus):\n",
        "        super().__init__(hours_worked, hourly_rate)\n",
        "        self.bonus = bonus\n",
        "\n",
        "    def calculate_salary(self):\n",
        "        return super().calculate_salary() + self.bonus\n",
        "\n",
        "e = Employee(40, 20)\n",
        "m = Manager(40, 30, 500)\n",
        "print(\"Employee salary:\", e.calculate_salary())\n",
        "print(\"Manager salary:\", m.calculate_salary())"
      ],
      "metadata": {
        "colab": {
          "base_uri": "https://localhost:8080/"
        },
        "id": "Xcut1bC0I4UL",
        "outputId": "8d411ec3-e9c8-4dc7-c66a-e42c8040211d"
      },
      "execution_count": 15,
      "outputs": [
        {
          "output_type": "stream",
          "name": "stdout",
          "text": [
            "Employee salary: 800\n",
            "Manager salary: 1700\n"
          ]
        }
      ]
    },
    {
      "cell_type": "markdown",
      "source": [
        "**15. Create a class Product with attributes name, price, and quantity. Implement a method total_price() that calculates the total price of the product.**"
      ],
      "metadata": {
        "id": "TyofO7MFJL69"
      }
    },
    {
      "cell_type": "code",
      "source": [
        "class Product:\n",
        "    def __init__(self, name, price, quantity):\n",
        "        self.name = name\n",
        "        self.price = price\n",
        "        self.quantity = quantity\n",
        "\n",
        "    def total_price(self):\n",
        "        return self.price * self.quantity\n",
        "\n",
        "p = Product(\"Laptop\", 100000, 3)\n",
        "print(\"Total price:\", p.total_price())"
      ],
      "metadata": {
        "colab": {
          "base_uri": "https://localhost:8080/"
        },
        "id": "yjkut22LJS1d",
        "outputId": "b220b943-c275-4fd7-bd6b-e54c1954ddb5"
      },
      "execution_count": 16,
      "outputs": [
        {
          "output_type": "stream",
          "name": "stdout",
          "text": [
            "Total price: 300000\n"
          ]
        }
      ]
    },
    {
      "cell_type": "markdown",
      "source": [
        "**16. Create a class Animal with an abstract method sound(). Create two derived classes Cow and Sheep that implement the sound() method.**\n"
      ],
      "metadata": {
        "id": "djy6LOmfJf8h"
      }
    },
    {
      "cell_type": "code",
      "source": [
        "from abc import ABC, abstractmethod\n",
        "\n",
        "class Animal(ABC):\n",
        "    @abstractmethod\n",
        "    def sound(self):\n",
        "        pass\n",
        "\n",
        "class Cow(Animal):\n",
        "    def sound(self):\n",
        "        print(\"Moo\")\n",
        "\n",
        "class Sheep(Animal):\n",
        "    def sound(self):\n",
        "        print(\"Baa\")\n",
        "\n",
        "c = Cow()\n",
        "s = Sheep()\n",
        "c.sound()\n",
        "s.sound()"
      ],
      "metadata": {
        "colab": {
          "base_uri": "https://localhost:8080/"
        },
        "id": "LSvUh0CnJqxo",
        "outputId": "2e8cc98c-fa8a-431a-8f60-70c1ea5766af"
      },
      "execution_count": 17,
      "outputs": [
        {
          "output_type": "stream",
          "name": "stdout",
          "text": [
            "Moo\n",
            "Baa\n"
          ]
        }
      ]
    },
    {
      "cell_type": "markdown",
      "source": [
        "**17.Create a class Book with attributes title, author, and year_published. Add a method get_book_info() that returns a formatted string with the book's details.**"
      ],
      "metadata": {
        "id": "o_9WXC9AJ3ua"
      }
    },
    {
      "cell_type": "code",
      "source": [
        "class Book:\n",
        "    def __init__(self, title, author, year_published):\n",
        "        self.title = title\n",
        "        self.author = author\n",
        "        self.year_published = year_published\n",
        "\n",
        "    def get_book_info(self):\n",
        "        return f\"'{self.title}' by {self.author} ({self.year_published})\"\n",
        "\n",
        "b = Book(\"1984\", \"George Orwell\", 1949)\n",
        "print(b.get_book_info())"
      ],
      "metadata": {
        "colab": {
          "base_uri": "https://localhost:8080/"
        },
        "id": "ioXuL7h4KDBY",
        "outputId": "ffc69e17-20a5-43a4-c0d3-ebdbc439fc7c"
      },
      "execution_count": 18,
      "outputs": [
        {
          "output_type": "stream",
          "name": "stdout",
          "text": [
            "'1984' by George Orwell (1949)\n"
          ]
        }
      ]
    },
    {
      "cell_type": "markdown",
      "source": [
        "**18. Create a class House with attributes address and price. Create a derived class Mansion that adds an attribute number_of_rooms.**"
      ],
      "metadata": {
        "id": "C1FSTPQtKdcc"
      }
    },
    {
      "cell_type": "code",
      "source": [
        "class House:\n",
        "    def __init__(self, address, price):\n",
        "        self.address = address\n",
        "        self.price = price\n",
        "\n",
        "class Mansion(House):\n",
        "    def __init__(self, address, price, number_of_rooms):\n",
        "        super().__init__(address, price)\n",
        "        self.number_of_rooms = number_of_rooms\n",
        "\n",
        "m = Mansion(\"123 Elite St\", 5000000, 15)\n",
        "print(m.address, m.price, m.number_of_rooms)"
      ],
      "metadata": {
        "colab": {
          "base_uri": "https://localhost:8080/"
        },
        "id": "mJP3aF7FKpHg",
        "outputId": "e10a8a23-7e6f-4e47-ad07-dd6149b9fcb3"
      },
      "execution_count": 19,
      "outputs": [
        {
          "output_type": "stream",
          "name": "stdout",
          "text": [
            "123 Elite St 5000000 15\n"
          ]
        }
      ]
    }
  ]
}